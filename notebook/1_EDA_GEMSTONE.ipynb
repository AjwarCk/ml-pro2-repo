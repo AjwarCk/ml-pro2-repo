{
 "cells": [
  {
   "cell_type": "markdown",
   "metadata": {},
   "source": [
    "<div style=\"font-family: Menlo, monospace; background-color: red; color: white; padding: 10px;\">\n",
    "\n",
    "### 1. EDA for Gemstone DataSet - Ajwar CK"
   ]
  },
  {
   "cell_type": "markdown",
   "metadata": {},
   "source": [
    "<span style=\"font-family: Menlo, monospace;\">\n",
    "\n",
    "#### Introduction About the Data :\n",
    "\n",
    "**The dataset** goal is to predict `price` of given diamond (Regression Analysis)."
   ]
  },
  {
   "cell_type": "markdown",
   "metadata": {},
   "source": [
    "<span style=\"font-family: Menlo, monospace;\">\n",
    "\n",
    "There are 10 independent variables (including id):\n",
    "\n",
    "- `id` : unique identifier of each diamond.\n",
    "- `carat` : carat (ct.) refers to the unique unit of weight measurement used exclusively to weigh gemstone and diamonds.\n",
    "- `cut` : quality of diamond cut.\n",
    "-  `color` : color of diamond.\n",
    "- `clarity` : diamond clarity is a measure of the purity and rarity of the stone, graded by the visibility of these characteristics under 10-power magnification.\n",
    "- `depth` : the depth of diamond is its height (in millimeters) measured from the culet (bottom tip) to the table (flat, top surface).\n",
    "- `table` : a diamond's table is the fact which can be seen when the stone is viewed face up.\n",
    "- `x` : diamond x dimension.\n",
    "- `y` : diamond y dimension.\n",
    "- `z` : diamond z dimension.\n",
    "\n",
    "**_Target variables :_**\n",
    "\n",
    "- *`price` : price of the given diamond.*\n",
    "\n",
    "**Dataset Source Link:**\n",
    "https://www.kaggle.com/competitions/playground-series-s3e8/data?select=train.csv\n"
   ]
  },
  {
   "cell_type": "markdown",
   "metadata": {},
   "source": []
  }
 ],
 "metadata": {
  "kernelspec": {
   "display_name": "ml-pro2-env",
   "language": "python",
   "name": "python3"
  },
  "language_info": {
   "name": "python",
   "version": "3.10.12"
  }
 },
 "nbformat": 4,
 "nbformat_minor": 2
}
